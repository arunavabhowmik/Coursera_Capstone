{
 "cells": [
  {
   "cell_type": "markdown",
   "metadata": {},
   "source": [
    "**Open a Eatery**"
   ]
  },
  {
   "cell_type": "markdown",
   "metadata": {},
   "source": [
    "**Introduction/Business Problem**\n",
    "\n",
    "Not every available space is right for a restaurant. A good restaurant location is harder to find than some people think. What may look like the perfect spot- say a bustling pedestrian street in the heart of downtown- may turn out to be a dud.\n",
    "\n",
    "Of course, food and service are important to the success of a restaurant, but the location can be just as crucial, especially in the early years. \n",
    "\n",
    "The following things should be considered while opening a Eatery\n",
    "\n",
    "Parking\n",
    "Location\n",
    "Accessibility\n",
    "Visibility\n",
    "Population Base\n",
    "Know Your Neighbors\n",
    "\n",
    "With Foursquare Places API, Venue details can be derived. I try to find the best venue location in My neighborhood to open an Eatery. \n"
   ]
  },
  {
   "cell_type": "code",
   "execution_count": null,
   "metadata": {},
   "outputs": [],
   "source": []
  }
 ],
 "metadata": {
  "kernelspec": {
   "display_name": "Python 3",
   "language": "python",
   "name": "python3"
  },
  "language_info": {
   "codemirror_mode": {
    "name": "ipython",
    "version": 3
   },
   "file_extension": ".py",
   "mimetype": "text/x-python",
   "name": "python",
   "nbconvert_exporter": "python",
   "pygments_lexer": "ipython3",
   "version": "3.6.6"
  }
 },
 "nbformat": 4,
 "nbformat_minor": 2
}
